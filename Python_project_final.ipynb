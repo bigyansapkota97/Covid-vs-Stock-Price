{
  "nbformat": 4,
  "nbformat_minor": 0,
  "metadata": {
    "colab": {
      "provenance": [],
      "authorship_tag": "ABX9TyM/IOKUCswInTZbr7C+sviN",
      "include_colab_link": true
    },
    "kernelspec": {
      "name": "python3",
      "display_name": "Python 3"
    },
    "language_info": {
      "name": "python"
    }
  },
  "cells": [
    {
      "cell_type": "markdown",
      "metadata": {
        "id": "view-in-github",
        "colab_type": "text"
      },
      "source": [
        "<a href=\"https://colab.research.google.com/github/bigyansapkota97/Covid-vs-Stock-Price/blob/main/Python_project_final.ipynb\" target=\"_parent\"><img src=\"https://colab.research.google.com/assets/colab-badge.svg\" alt=\"Open In Colab\"/></a>"
      ]
    },
    {
      "cell_type": "code",
      "execution_count": null,
      "metadata": {
        "colab": {
          "base_uri": "https://localhost:8080/"
        },
        "id": "qN9MEjdvVV6q",
        "outputId": "ba6c3a23-c506-4133-ab66-498346e530d1"
      },
      "outputs": [
        {
          "output_type": "stream",
          "name": "stdout",
          "text": [
            "Collecting alpha_vantage\n",
            "  Downloading alpha_vantage-2.3.1-py3-none-any.whl (31 kB)\n",
            "Requirement already satisfied: aiohttp in /usr/local/lib/python3.10/dist-packages (from alpha_vantage) (3.9.1)\n",
            "Requirement already satisfied: requests in /usr/local/lib/python3.10/dist-packages (from alpha_vantage) (2.31.0)\n",
            "Requirement already satisfied: attrs>=17.3.0 in /usr/local/lib/python3.10/dist-packages (from aiohttp->alpha_vantage) (23.1.0)\n",
            "Requirement already satisfied: multidict<7.0,>=4.5 in /usr/local/lib/python3.10/dist-packages (from aiohttp->alpha_vantage) (6.0.4)\n",
            "Requirement already satisfied: yarl<2.0,>=1.0 in /usr/local/lib/python3.10/dist-packages (from aiohttp->alpha_vantage) (1.9.3)\n",
            "Requirement already satisfied: frozenlist>=1.1.1 in /usr/local/lib/python3.10/dist-packages (from aiohttp->alpha_vantage) (1.4.0)\n",
            "Requirement already satisfied: aiosignal>=1.1.2 in /usr/local/lib/python3.10/dist-packages (from aiohttp->alpha_vantage) (1.3.1)\n",
            "Requirement already satisfied: async-timeout<5.0,>=4.0 in /usr/local/lib/python3.10/dist-packages (from aiohttp->alpha_vantage) (4.0.3)\n",
            "Requirement already satisfied: charset-normalizer<4,>=2 in /usr/local/lib/python3.10/dist-packages (from requests->alpha_vantage) (3.3.2)\n",
            "Requirement already satisfied: idna<4,>=2.5 in /usr/local/lib/python3.10/dist-packages (from requests->alpha_vantage) (3.6)\n",
            "Requirement already satisfied: urllib3<3,>=1.21.1 in /usr/local/lib/python3.10/dist-packages (from requests->alpha_vantage) (2.0.7)\n",
            "Requirement already satisfied: certifi>=2017.4.17 in /usr/local/lib/python3.10/dist-packages (from requests->alpha_vantage) (2023.11.17)\n",
            "Installing collected packages: alpha_vantage\n",
            "Successfully installed alpha_vantage-2.3.1\n"
          ]
        }
      ],
      "source": [
        "!pip install alpha_vantage"
      ]
    },
    {
      "cell_type": "code",
      "source": [
        "import pandas as pd\n",
        "\n",
        "url_conf_cases = \"https://raw.githubusercontent.com/CSSEGISandData/COVID-19/master/csse_covid_19_data/csse_covid_19_time_series/time_series_covid19_confirmed_global.csv\"\n",
        "url_deaths = \"https://raw.githubusercontent.com/CSSEGISandData/COVID-19/master/csse_covid_19_data/csse_covid_19_time_series/time_series_covid19_deaths_global.csv\"\n",
        "\n",
        "df_conf_cases_initial = pd.read_csv(url_conf_cases)\n",
        "df_deaths_initial = pd.read_csv(url_deaths)\n",
        "\n",
        "#converting date columns to datetime format\n",
        "date_columns = df_conf_cases_initial.columns[4:]\n",
        "date_range = pd.to_datetime(date_columns)\n",
        "\n",
        "# getting data from February 2020 to August 2021\n",
        "mask = (date_range >= '2020-02-01') & (date_range <= '2021-08-31')\n",
        "df_conf_cases = df_conf_cases_initial.iloc[:, :4].join(df_conf_cases_initial.iloc[:, 4:][date_columns[mask]])\n",
        "df_deaths = df_deaths_initial.iloc[:, :4].join(df_deaths_initial.iloc[:, 4:][date_columns[mask]])\n",
        "\n",
        "# Global level sum of confirmed cases and deaths\n",
        "global_confirmed = df_conf_cases.iloc[:, 4:].sum(axis=0)\n",
        "global_deaths = df_deaths.iloc[:, 4:].sum(axis=0)\n",
        "\n",
        "# Global aggregated dataframe\n",
        "global_df = pd.DataFrame({\n",
        "    'Date': global_confirmed.index,\n",
        "    'Confirmed Cases': global_confirmed.values,\n",
        "    'Deaths': global_deaths.values\n",
        "})\n",
        "\n",
        "print(global_df)"
      ],
      "metadata": {
        "id": "f4jDJWm1VwDp",
        "colab": {
          "base_uri": "https://localhost:8080/"
        },
        "outputId": "d3a61474-9fa9-407d-ca5c-492942f9dc2e"
      },
      "execution_count": 1,
      "outputs": [
        {
          "output_type": "stream",
          "name": "stdout",
          "text": [
            "        Date  Confirmed Cases   Deaths\n",
            "0     2/1/20            12038      260\n",
            "1     2/2/20            16787      364\n",
            "2     2/3/20            19887      428\n",
            "3     2/4/20            23899      494\n",
            "4     2/5/20            27644      566\n",
            "..       ...              ...      ...\n",
            "573  8/27/21        215988154  4513136\n",
            "574  8/28/21        216545334  4521572\n",
            "575  8/29/21        216992164  4528394\n",
            "576  8/30/21        217664015  4537965\n",
            "577  8/31/21        218284677  4547280\n",
            "\n",
            "[578 rows x 3 columns]\n"
          ]
        }
      ]
    }
  ]
}